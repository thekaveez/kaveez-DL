{
  "nbformat": 4,
  "nbformat_minor": 0,
  "metadata": {
    "colab": {
      "provenance": [],
      "gpuType": "T4",
      "authorship_tag": "ABX9TyNT3p/P/pOJl6BZACm43syv",
      "include_colab_link": true
    },
    "kernelspec": {
      "name": "python3",
      "display_name": "Python 3"
    },
    "language_info": {
      "name": "python"
    },
    "accelerator": "GPU"
  },
  "cells": [
    {
      "cell_type": "markdown",
      "metadata": {
        "id": "view-in-github",
        "colab_type": "text"
      },
      "source": [
        "<a href=\"https://colab.research.google.com/github/thekaveez/kaveez-DL/blob/main/regression.ipynb\" target=\"_parent\"><img src=\"https://colab.research.google.com/assets/colab-badge.svg\" alt=\"Open In Colab\"/></a>"
      ]
    },
    {
      "cell_type": "code",
      "execution_count": 2,
      "metadata": {
        "colab": {
          "base_uri": "https://localhost:8080/"
        },
        "id": "nK2x0LQBykzq",
        "outputId": "1d0ad309-2003-4b4f-c5ec-720bcf9c1e06"
      },
      "outputs": [
        {
          "output_type": "stream",
          "name": "stdout",
          "text": [
            "Collecting opendatasets\n",
            "  Downloading opendatasets-0.1.22-py3-none-any.whl.metadata (9.2 kB)\n",
            "Requirement already satisfied: tqdm in /usr/local/lib/python3.10/dist-packages (from opendatasets) (4.66.6)\n",
            "Requirement already satisfied: kaggle in /usr/local/lib/python3.10/dist-packages (from opendatasets) (1.6.17)\n",
            "Requirement already satisfied: click in /usr/local/lib/python3.10/dist-packages (from opendatasets) (8.1.7)\n",
            "Requirement already satisfied: six>=1.10 in /usr/local/lib/python3.10/dist-packages (from kaggle->opendatasets) (1.16.0)\n",
            "Requirement already satisfied: certifi>=2023.7.22 in /usr/local/lib/python3.10/dist-packages (from kaggle->opendatasets) (2024.8.30)\n",
            "Requirement already satisfied: python-dateutil in /usr/local/lib/python3.10/dist-packages (from kaggle->opendatasets) (2.8.2)\n",
            "Requirement already satisfied: requests in /usr/local/lib/python3.10/dist-packages (from kaggle->opendatasets) (2.32.3)\n",
            "Requirement already satisfied: python-slugify in /usr/local/lib/python3.10/dist-packages (from kaggle->opendatasets) (8.0.4)\n",
            "Requirement already satisfied: urllib3 in /usr/local/lib/python3.10/dist-packages (from kaggle->opendatasets) (2.2.3)\n",
            "Requirement already satisfied: bleach in /usr/local/lib/python3.10/dist-packages (from kaggle->opendatasets) (6.2.0)\n",
            "Requirement already satisfied: webencodings in /usr/local/lib/python3.10/dist-packages (from bleach->kaggle->opendatasets) (0.5.1)\n",
            "Requirement already satisfied: text-unidecode>=1.3 in /usr/local/lib/python3.10/dist-packages (from python-slugify->kaggle->opendatasets) (1.3)\n",
            "Requirement already satisfied: charset-normalizer<4,>=2 in /usr/local/lib/python3.10/dist-packages (from requests->kaggle->opendatasets) (3.4.0)\n",
            "Requirement already satisfied: idna<4,>=2.5 in /usr/local/lib/python3.10/dist-packages (from requests->kaggle->opendatasets) (3.10)\n",
            "Downloading opendatasets-0.1.22-py3-none-any.whl (15 kB)\n",
            "Installing collected packages: opendatasets\n",
            "Successfully installed opendatasets-0.1.22\n"
          ]
        }
      ],
      "source": [
        "!pip install opendatasets"
      ]
    },
    {
      "cell_type": "code",
      "source": [
        "import pandas as pd\n",
        "import matplotlib.pyplot as plt\n",
        "import tensorflow as tf\n",
        "import opendatasets as od"
      ],
      "metadata": {
        "id": "YaauOn6lzchc"
      },
      "execution_count": 3,
      "outputs": []
    },
    {
      "cell_type": "code",
      "source": [
        "od.download(\"https://www.kaggle.com/datasets/andonians/random-linear-regression\")"
      ],
      "metadata": {
        "colab": {
          "base_uri": "https://localhost:8080/"
        },
        "id": "LDchDiOR0HXp",
        "outputId": "85a72a3f-f990-4512-aa55-3c17e819d162"
      },
      "execution_count": 4,
      "outputs": [
        {
          "output_type": "stream",
          "name": "stdout",
          "text": [
            "Please provide your Kaggle credentials to download this dataset. Learn more: http://bit.ly/kaggle-creds\n",
            "Your Kaggle username: thekaaveez\n",
            "Your Kaggle Key: ··········\n",
            "Dataset URL: https://www.kaggle.com/datasets/andonians/random-linear-regression\n",
            "Downloading random-linear-regression.zip to ./random-linear-regression\n"
          ]
        },
        {
          "output_type": "stream",
          "name": "stderr",
          "text": [
            "100%|██████████| 7.63k/7.63k [00:00<00:00, 3.46MB/s]"
          ]
        },
        {
          "output_type": "stream",
          "name": "stdout",
          "text": [
            "\n"
          ]
        },
        {
          "output_type": "stream",
          "name": "stderr",
          "text": [
            "\n"
          ]
        }
      ]
    },
    {
      "cell_type": "code",
      "source": [
        "data = pd.read_csv(\"random-linear-regression/test.csv\")"
      ],
      "metadata": {
        "id": "xBZciLI00iT3"
      },
      "execution_count": 5,
      "outputs": []
    },
    {
      "cell_type": "code",
      "source": [
        "data.head()"
      ],
      "metadata": {
        "colab": {
          "base_uri": "https://localhost:8080/",
          "height": 206
        },
        "id": "6jOFagaS1QMZ",
        "outputId": "70e132c5-2ea5-4d39-c563-1a01a92b384d"
      },
      "execution_count": 6,
      "outputs": [
        {
          "output_type": "execute_result",
          "data": {
            "text/plain": [
              "    x          y\n",
              "0  77  79.775152\n",
              "1  21  23.177279\n",
              "2  22  25.609262\n",
              "3  20  17.857388\n",
              "4  36  41.849864"
            ],
            "text/html": [
              "\n",
              "  <div id=\"df-64257a36-74f0-43c0-ad3a-59880f584d71\" class=\"colab-df-container\">\n",
              "    <div>\n",
              "<style scoped>\n",
              "    .dataframe tbody tr th:only-of-type {\n",
              "        vertical-align: middle;\n",
              "    }\n",
              "\n",
              "    .dataframe tbody tr th {\n",
              "        vertical-align: top;\n",
              "    }\n",
              "\n",
              "    .dataframe thead th {\n",
              "        text-align: right;\n",
              "    }\n",
              "</style>\n",
              "<table border=\"1\" class=\"dataframe\">\n",
              "  <thead>\n",
              "    <tr style=\"text-align: right;\">\n",
              "      <th></th>\n",
              "      <th>x</th>\n",
              "      <th>y</th>\n",
              "    </tr>\n",
              "  </thead>\n",
              "  <tbody>\n",
              "    <tr>\n",
              "      <th>0</th>\n",
              "      <td>77</td>\n",
              "      <td>79.775152</td>\n",
              "    </tr>\n",
              "    <tr>\n",
              "      <th>1</th>\n",
              "      <td>21</td>\n",
              "      <td>23.177279</td>\n",
              "    </tr>\n",
              "    <tr>\n",
              "      <th>2</th>\n",
              "      <td>22</td>\n",
              "      <td>25.609262</td>\n",
              "    </tr>\n",
              "    <tr>\n",
              "      <th>3</th>\n",
              "      <td>20</td>\n",
              "      <td>17.857388</td>\n",
              "    </tr>\n",
              "    <tr>\n",
              "      <th>4</th>\n",
              "      <td>36</td>\n",
              "      <td>41.849864</td>\n",
              "    </tr>\n",
              "  </tbody>\n",
              "</table>\n",
              "</div>\n",
              "    <div class=\"colab-df-buttons\">\n",
              "\n",
              "  <div class=\"colab-df-container\">\n",
              "    <button class=\"colab-df-convert\" onclick=\"convertToInteractive('df-64257a36-74f0-43c0-ad3a-59880f584d71')\"\n",
              "            title=\"Convert this dataframe to an interactive table.\"\n",
              "            style=\"display:none;\">\n",
              "\n",
              "  <svg xmlns=\"http://www.w3.org/2000/svg\" height=\"24px\" viewBox=\"0 -960 960 960\">\n",
              "    <path d=\"M120-120v-720h720v720H120Zm60-500h600v-160H180v160Zm220 220h160v-160H400v160Zm0 220h160v-160H400v160ZM180-400h160v-160H180v160Zm440 0h160v-160H620v160ZM180-180h160v-160H180v160Zm440 0h160v-160H620v160Z\"/>\n",
              "  </svg>\n",
              "    </button>\n",
              "\n",
              "  <style>\n",
              "    .colab-df-container {\n",
              "      display:flex;\n",
              "      gap: 12px;\n",
              "    }\n",
              "\n",
              "    .colab-df-convert {\n",
              "      background-color: #E8F0FE;\n",
              "      border: none;\n",
              "      border-radius: 50%;\n",
              "      cursor: pointer;\n",
              "      display: none;\n",
              "      fill: #1967D2;\n",
              "      height: 32px;\n",
              "      padding: 0 0 0 0;\n",
              "      width: 32px;\n",
              "    }\n",
              "\n",
              "    .colab-df-convert:hover {\n",
              "      background-color: #E2EBFA;\n",
              "      box-shadow: 0px 1px 2px rgba(60, 64, 67, 0.3), 0px 1px 3px 1px rgba(60, 64, 67, 0.15);\n",
              "      fill: #174EA6;\n",
              "    }\n",
              "\n",
              "    .colab-df-buttons div {\n",
              "      margin-bottom: 4px;\n",
              "    }\n",
              "\n",
              "    [theme=dark] .colab-df-convert {\n",
              "      background-color: #3B4455;\n",
              "      fill: #D2E3FC;\n",
              "    }\n",
              "\n",
              "    [theme=dark] .colab-df-convert:hover {\n",
              "      background-color: #434B5C;\n",
              "      box-shadow: 0px 1px 3px 1px rgba(0, 0, 0, 0.15);\n",
              "      filter: drop-shadow(0px 1px 2px rgba(0, 0, 0, 0.3));\n",
              "      fill: #FFFFFF;\n",
              "    }\n",
              "  </style>\n",
              "\n",
              "    <script>\n",
              "      const buttonEl =\n",
              "        document.querySelector('#df-64257a36-74f0-43c0-ad3a-59880f584d71 button.colab-df-convert');\n",
              "      buttonEl.style.display =\n",
              "        google.colab.kernel.accessAllowed ? 'block' : 'none';\n",
              "\n",
              "      async function convertToInteractive(key) {\n",
              "        const element = document.querySelector('#df-64257a36-74f0-43c0-ad3a-59880f584d71');\n",
              "        const dataTable =\n",
              "          await google.colab.kernel.invokeFunction('convertToInteractive',\n",
              "                                                    [key], {});\n",
              "        if (!dataTable) return;\n",
              "\n",
              "        const docLinkHtml = 'Like what you see? Visit the ' +\n",
              "          '<a target=\"_blank\" href=https://colab.research.google.com/notebooks/data_table.ipynb>data table notebook</a>'\n",
              "          + ' to learn more about interactive tables.';\n",
              "        element.innerHTML = '';\n",
              "        dataTable['output_type'] = 'display_data';\n",
              "        await google.colab.output.renderOutput(dataTable, element);\n",
              "        const docLink = document.createElement('div');\n",
              "        docLink.innerHTML = docLinkHtml;\n",
              "        element.appendChild(docLink);\n",
              "      }\n",
              "    </script>\n",
              "  </div>\n",
              "\n",
              "\n",
              "<div id=\"df-f29576d6-3c5f-467e-8321-1f4151e6c4f2\">\n",
              "  <button class=\"colab-df-quickchart\" onclick=\"quickchart('df-f29576d6-3c5f-467e-8321-1f4151e6c4f2')\"\n",
              "            title=\"Suggest charts\"\n",
              "            style=\"display:none;\">\n",
              "\n",
              "<svg xmlns=\"http://www.w3.org/2000/svg\" height=\"24px\"viewBox=\"0 0 24 24\"\n",
              "     width=\"24px\">\n",
              "    <g>\n",
              "        <path d=\"M19 3H5c-1.1 0-2 .9-2 2v14c0 1.1.9 2 2 2h14c1.1 0 2-.9 2-2V5c0-1.1-.9-2-2-2zM9 17H7v-7h2v7zm4 0h-2V7h2v10zm4 0h-2v-4h2v4z\"/>\n",
              "    </g>\n",
              "</svg>\n",
              "  </button>\n",
              "\n",
              "<style>\n",
              "  .colab-df-quickchart {\n",
              "      --bg-color: #E8F0FE;\n",
              "      --fill-color: #1967D2;\n",
              "      --hover-bg-color: #E2EBFA;\n",
              "      --hover-fill-color: #174EA6;\n",
              "      --disabled-fill-color: #AAA;\n",
              "      --disabled-bg-color: #DDD;\n",
              "  }\n",
              "\n",
              "  [theme=dark] .colab-df-quickchart {\n",
              "      --bg-color: #3B4455;\n",
              "      --fill-color: #D2E3FC;\n",
              "      --hover-bg-color: #434B5C;\n",
              "      --hover-fill-color: #FFFFFF;\n",
              "      --disabled-bg-color: #3B4455;\n",
              "      --disabled-fill-color: #666;\n",
              "  }\n",
              "\n",
              "  .colab-df-quickchart {\n",
              "    background-color: var(--bg-color);\n",
              "    border: none;\n",
              "    border-radius: 50%;\n",
              "    cursor: pointer;\n",
              "    display: none;\n",
              "    fill: var(--fill-color);\n",
              "    height: 32px;\n",
              "    padding: 0;\n",
              "    width: 32px;\n",
              "  }\n",
              "\n",
              "  .colab-df-quickchart:hover {\n",
              "    background-color: var(--hover-bg-color);\n",
              "    box-shadow: 0 1px 2px rgba(60, 64, 67, 0.3), 0 1px 3px 1px rgba(60, 64, 67, 0.15);\n",
              "    fill: var(--button-hover-fill-color);\n",
              "  }\n",
              "\n",
              "  .colab-df-quickchart-complete:disabled,\n",
              "  .colab-df-quickchart-complete:disabled:hover {\n",
              "    background-color: var(--disabled-bg-color);\n",
              "    fill: var(--disabled-fill-color);\n",
              "    box-shadow: none;\n",
              "  }\n",
              "\n",
              "  .colab-df-spinner {\n",
              "    border: 2px solid var(--fill-color);\n",
              "    border-color: transparent;\n",
              "    border-bottom-color: var(--fill-color);\n",
              "    animation:\n",
              "      spin 1s steps(1) infinite;\n",
              "  }\n",
              "\n",
              "  @keyframes spin {\n",
              "    0% {\n",
              "      border-color: transparent;\n",
              "      border-bottom-color: var(--fill-color);\n",
              "      border-left-color: var(--fill-color);\n",
              "    }\n",
              "    20% {\n",
              "      border-color: transparent;\n",
              "      border-left-color: var(--fill-color);\n",
              "      border-top-color: var(--fill-color);\n",
              "    }\n",
              "    30% {\n",
              "      border-color: transparent;\n",
              "      border-left-color: var(--fill-color);\n",
              "      border-top-color: var(--fill-color);\n",
              "      border-right-color: var(--fill-color);\n",
              "    }\n",
              "    40% {\n",
              "      border-color: transparent;\n",
              "      border-right-color: var(--fill-color);\n",
              "      border-top-color: var(--fill-color);\n",
              "    }\n",
              "    60% {\n",
              "      border-color: transparent;\n",
              "      border-right-color: var(--fill-color);\n",
              "    }\n",
              "    80% {\n",
              "      border-color: transparent;\n",
              "      border-right-color: var(--fill-color);\n",
              "      border-bottom-color: var(--fill-color);\n",
              "    }\n",
              "    90% {\n",
              "      border-color: transparent;\n",
              "      border-bottom-color: var(--fill-color);\n",
              "    }\n",
              "  }\n",
              "</style>\n",
              "\n",
              "  <script>\n",
              "    async function quickchart(key) {\n",
              "      const quickchartButtonEl =\n",
              "        document.querySelector('#' + key + ' button');\n",
              "      quickchartButtonEl.disabled = true;  // To prevent multiple clicks.\n",
              "      quickchartButtonEl.classList.add('colab-df-spinner');\n",
              "      try {\n",
              "        const charts = await google.colab.kernel.invokeFunction(\n",
              "            'suggestCharts', [key], {});\n",
              "      } catch (error) {\n",
              "        console.error('Error during call to suggestCharts:', error);\n",
              "      }\n",
              "      quickchartButtonEl.classList.remove('colab-df-spinner');\n",
              "      quickchartButtonEl.classList.add('colab-df-quickchart-complete');\n",
              "    }\n",
              "    (() => {\n",
              "      let quickchartButtonEl =\n",
              "        document.querySelector('#df-f29576d6-3c5f-467e-8321-1f4151e6c4f2 button');\n",
              "      quickchartButtonEl.style.display =\n",
              "        google.colab.kernel.accessAllowed ? 'block' : 'none';\n",
              "    })();\n",
              "  </script>\n",
              "</div>\n",
              "\n",
              "    </div>\n",
              "  </div>\n"
            ],
            "application/vnd.google.colaboratory.intrinsic+json": {
              "type": "dataframe",
              "variable_name": "data",
              "summary": "{\n  \"name\": \"data\",\n  \"rows\": 300,\n  \"fields\": [\n    {\n      \"column\": \"x\",\n      \"properties\": {\n        \"dtype\": \"number\",\n        \"std\": 28,\n        \"min\": 0,\n        \"max\": 100,\n        \"num_unique_values\": 97,\n        \"samples\": [\n          38,\n          88,\n          6\n        ],\n        \"semantic_type\": \"\",\n        \"description\": \"\"\n      }\n    },\n    {\n      \"column\": \"y\",\n      \"properties\": {\n        \"dtype\": \"number\",\n        \"std\": 29.0714808559721,\n        \"min\": -3.467883789,\n        \"max\": 105.5918375,\n        \"num_unique_values\": 300,\n        \"samples\": [\n          92.88772282,\n          79.50341495,\n          97.00148372\n        ],\n        \"semantic_type\": \"\",\n        \"description\": \"\"\n      }\n    }\n  ]\n}"
            }
          },
          "metadata": {},
          "execution_count": 6
        }
      ]
    },
    {
      "cell_type": "code",
      "source": [
        "data.shape"
      ],
      "metadata": {
        "colab": {
          "base_uri": "https://localhost:8080/"
        },
        "id": "xUeNOWja1Z-R",
        "outputId": "9790b8af-f191-4677-a9c1-fc17897a2ff2"
      },
      "execution_count": 7,
      "outputs": [
        {
          "output_type": "execute_result",
          "data": {
            "text/plain": [
              "(300, 2)"
            ]
          },
          "metadata": {},
          "execution_count": 7
        }
      ]
    },
    {
      "cell_type": "code",
      "source": [
        "X = data['x']\n",
        "y = data['y']"
      ],
      "metadata": {
        "id": "B8QtBLBa1ttD"
      },
      "execution_count": 8,
      "outputs": []
    },
    {
      "cell_type": "code",
      "source": [
        "y"
      ],
      "metadata": {
        "colab": {
          "base_uri": "https://localhost:8080/",
          "height": 458
        },
        "id": "xekxuCDZ121z",
        "outputId": "26024541-95db-4c1b-d15f-7564b5c0e5c6"
      },
      "execution_count": 9,
      "outputs": [
        {
          "output_type": "execute_result",
          "data": {
            "text/plain": [
              "0      79.775152\n",
              "1      23.177279\n",
              "2      25.609262\n",
              "3      17.857388\n",
              "4      41.849864\n",
              "         ...    \n",
              "295    68.545888\n",
              "296    47.334876\n",
              "297    54.090637\n",
              "298    63.297171\n",
              "299    52.459467\n",
              "Name: y, Length: 300, dtype: float64"
            ],
            "text/html": [
              "<div>\n",
              "<style scoped>\n",
              "    .dataframe tbody tr th:only-of-type {\n",
              "        vertical-align: middle;\n",
              "    }\n",
              "\n",
              "    .dataframe tbody tr th {\n",
              "        vertical-align: top;\n",
              "    }\n",
              "\n",
              "    .dataframe thead th {\n",
              "        text-align: right;\n",
              "    }\n",
              "</style>\n",
              "<table border=\"1\" class=\"dataframe\">\n",
              "  <thead>\n",
              "    <tr style=\"text-align: right;\">\n",
              "      <th></th>\n",
              "      <th>y</th>\n",
              "    </tr>\n",
              "  </thead>\n",
              "  <tbody>\n",
              "    <tr>\n",
              "      <th>0</th>\n",
              "      <td>79.775152</td>\n",
              "    </tr>\n",
              "    <tr>\n",
              "      <th>1</th>\n",
              "      <td>23.177279</td>\n",
              "    </tr>\n",
              "    <tr>\n",
              "      <th>2</th>\n",
              "      <td>25.609262</td>\n",
              "    </tr>\n",
              "    <tr>\n",
              "      <th>3</th>\n",
              "      <td>17.857388</td>\n",
              "    </tr>\n",
              "    <tr>\n",
              "      <th>4</th>\n",
              "      <td>41.849864</td>\n",
              "    </tr>\n",
              "    <tr>\n",
              "      <th>...</th>\n",
              "      <td>...</td>\n",
              "    </tr>\n",
              "    <tr>\n",
              "      <th>295</th>\n",
              "      <td>68.545888</td>\n",
              "    </tr>\n",
              "    <tr>\n",
              "      <th>296</th>\n",
              "      <td>47.334876</td>\n",
              "    </tr>\n",
              "    <tr>\n",
              "      <th>297</th>\n",
              "      <td>54.090637</td>\n",
              "    </tr>\n",
              "    <tr>\n",
              "      <th>298</th>\n",
              "      <td>63.297171</td>\n",
              "    </tr>\n",
              "    <tr>\n",
              "      <th>299</th>\n",
              "      <td>52.459467</td>\n",
              "    </tr>\n",
              "  </tbody>\n",
              "</table>\n",
              "<p>300 rows × 1 columns</p>\n",
              "</div><br><label><b>dtype:</b> float64</label>"
            ]
          },
          "metadata": {},
          "execution_count": 9
        }
      ]
    },
    {
      "cell_type": "code",
      "source": [
        "plt.scatter(X,y, c='b')\n",
        "plt.show()"
      ],
      "metadata": {
        "colab": {
          "base_uri": "https://localhost:8080/",
          "height": 430
        },
        "id": "xm8m-_Rb14NM",
        "outputId": "b2ad93a5-e1c4-4738-9992-bccbd7084797"
      },
      "execution_count": 10,
      "outputs": [
        {
          "output_type": "display_data",
          "data": {
            "text/plain": [
              "<Figure size 640x480 with 1 Axes>"
            ],
            "image/png": "[encoded data removed]"
          },
          "metadata": {}
        }
      ]
    },
    {
      "cell_type": "code",
      "source": [
        "from sklearn.model_selection import train_test_split\n",
        "X_train, X_test, y_train, y_test = train_test_split(X, y, test_size=0.2, random_state=42)"
      ],
      "metadata": {
        "id": "fRigo8fd2Ezq"
      },
      "execution_count": 11,
      "outputs": []
    },
    {
      "cell_type": "code",
      "source": [
        "X_train.shape, X_test.shape, y_train.shape, y_test.shape"
      ],
      "metadata": {
        "colab": {
          "base_uri": "https://localhost:8080/"
        },
        "id": "Df_b01Qo2Vgo",
        "outputId": "214c943f-8963-4c9e-f01a-ea0b2fd857a3"
      },
      "execution_count": 12,
      "outputs": [
        {
          "output_type": "execute_result",
          "data": {
            "text/plain": [
              "((240,), (60,), (240,), (60,))"
            ]
          },
          "metadata": {},
          "execution_count": 12
        }
      ]
    },
    {
      "cell_type": "code",
      "source": [
        "plt.scatter(X_train, y_train, c='b', label = 'Train Data')\n",
        "plt.scatter(X_test, y_test, c='y', label = 'Testing Data')\n",
        "plt.legend()\n",
        "plt.show()"
      ],
      "metadata": {
        "colab": {
          "base_uri": "https://localhost:8080/",
          "height": 430
        },
        "id": "lLIQpzI52cx9",
        "outputId": "12621391-d40b-4e0f-aaaf-c6ef9a8484f3"
      },
      "execution_count": 13,
      "outputs": [
        {
          "output_type": "display_data",
          "data": {
            "text/plain": [
              "<Figure size 640x480 with 1 Axes>"
            ],
            "image/png": "[encoded data removed]"
          },
          "metadata": {}
        }
      ]
    },
    {
      "cell_type": "markdown",
      "source": [
        "#Model Building"
      ],
      "metadata": {
        "id": "u9gBnEC0261Y"
      }
    },
    {
      "cell_type": "code",
      "source": [
        "# create a model\n",
        "model = tf.keras.Sequential([\n",
        "    tf.keras.layers.Dense(64, input_shape=[1]),\n",
        "    tf.keras.layers.Dense(10),\n",
        "    tf.keras.layers.Dense(1),\n",
        "])\n",
        "\n",
        "# compile model\n",
        "model.compile(loss = tf.keras.losses.mae,\n",
        "              optimizer = tf.keras.optimizers.Adam(learning_rate=0.05),\n",
        "              metrics = ['mae'])\n",
        "\n",
        "\n",
        "# train model\n",
        "epoch_number = 10\n",
        "history = model.fit(tf.expand_dims(X_train, axis=1), y_train, epochs = epoch_number)\n",
        ""
      ],
      "metadata": {
        "colab": {
          "base_uri": "https://localhost:8080/"
        },
        "id": "0lUk8vSb2zx_",
        "outputId": "70659b7e-fc89-4fc1-8ecb-4e1ff71736fd"
      },
      "execution_count": 40,
      "outputs": [
        {
          "output_type": "stream",
          "name": "stdout",
          "text": [
            "Epoch 1/10\n"
          ]
        },
        {
          "output_type": "stream",
          "name": "stderr",
          "text": [
            "/usr/local/lib/python3.10/dist-packages/keras/src/layers/core/dense.py:87: UserWarning: Do not pass an `input_shape`/`input_dim` argument to a layer. When using Sequential models, prefer using an `Input(shape)` object as the first layer in the model instead.\n",
            "  super().__init__(activity_regularizer=activity_regularizer, **kwargs)\n"
          ]
        },
        {
          "output_type": "stream",
          "name": "stdout",
          "text": [
            "\u001b[1m8/8\u001b[0m \u001b[32m━━━━━━━━━━━━━━━━━━━━\u001b[0m\u001b[37m\u001b[0m \u001b[1m1s\u001b[0m 38ms/step - loss: 48.4298 - mae: 48.4298\n",
            "Epoch 2/10\n",
            "\u001b[1m8/8\u001b[0m \u001b[32m━━━━━━━━━━━━━━━━━━━━\u001b[0m\u001b[37m\u001b[0m \u001b[1m0s\u001b[0m 2ms/step - loss: 10.9490 - mae: 10.9490\n",
            "Epoch 3/10\n",
            "\u001b[1m8/8\u001b[0m \u001b[32m━━━━━━━━━━━━━━━━━━━━\u001b[0m\u001b[37m\u001b[0m \u001b[1m0s\u001b[0m 3ms/step - loss: 4.8322 - mae: 4.8322 \n",
            "Epoch 4/10\n",
            "\u001b[1m8/8\u001b[0m \u001b[32m━━━━━━━━━━━━━━━━━━━━\u001b[0m\u001b[37m\u001b[0m \u001b[1m0s\u001b[0m 2ms/step - loss: 3.6149 - mae: 3.6149 \n",
            "Epoch 5/10\n",
            "\u001b[1m8/8\u001b[0m \u001b[32m━━━━━━━━━━━━━━━━━━━━\u001b[0m\u001b[37m\u001b[0m \u001b[1m0s\u001b[0m 2ms/step - loss: 2.9044 - mae: 2.9044 \n",
            "Epoch 6/10\n",
            "\u001b[1m8/8\u001b[0m \u001b[32m━━━━━━━━━━━━━━━━━━━━\u001b[0m\u001b[37m\u001b[0m \u001b[1m0s\u001b[0m 2ms/step - loss: 3.8182 - mae: 3.8182 \n",
            "Epoch 7/10\n",
            "\u001b[1m8/8\u001b[0m \u001b[32m━━━━━━━━━━━━━━━━━━━━\u001b[0m\u001b[37m\u001b[0m \u001b[1m0s\u001b[0m 3ms/step - loss: 5.2702 - mae: 5.2702 \n",
            "Epoch 8/10\n",
            "\u001b[1m8/8\u001b[0m \u001b[32m━━━━━━━━━━━━━━━━━━━━\u001b[0m\u001b[37m\u001b[0m \u001b[1m0s\u001b[0m 4ms/step - loss: 3.6889 - mae: 3.6889 \n",
            "Epoch 9/10\n",
            "\u001b[1m8/8\u001b[0m \u001b[32m━━━━━━━━━━━━━━━━━━━━\u001b[0m\u001b[37m\u001b[0m \u001b[1m0s\u001b[0m 2ms/step - loss: 4.7936 - mae: 4.7936 \n",
            "Epoch 10/10\n",
            "\u001b[1m8/8\u001b[0m \u001b[32m━━━━━━━━━━━━━━━━━━━━\u001b[0m\u001b[37m\u001b[0m \u001b[1m0s\u001b[0m 2ms/step - loss: 4.1077 - mae: 4.1077 \n"
          ]
        }
      ]
    },
    {
      "cell_type": "code",
      "source": [
        "model.summary()"
      ],
      "metadata": {
        "colab": {
          "base_uri": "https://localhost:8080/",
          "height": 241
        },
        "id": "v1QEeJZK2_gd",
        "outputId": "7ae1eed6-fe20-4439-db59-3604e5336c78"
      },
      "execution_count": 32,
      "outputs": [
        {
          "output_type": "display_data",
          "data": {
            "text/plain": [
              "\u001b[1mModel: \"sequential_5\"\u001b[0m\n"
            ],
            "text/html": [
              "<pre style=\"white-space:pre;overflow-x:auto;line-height:normal;font-family:Menlo,'DejaVu Sans Mono',consolas,'Courier New',monospace\"><span style=\"font-weight: bold\">Model: \"sequential_5\"</span>\n",
              "</pre>\n"
            ]
          },
          "metadata": {}
        },
        {
          "output_type": "display_data",
          "data": {
            "text/plain": [
              "┏━━━━━━━━━━━━━━━━━━━━━━━━━━━━━━━━━━━━━━┳━━━━━━━━━━━━━━━━━━━━━━━━━━━━━┳━━━━━━━━━━━━━━━━━┓\n",
              "┃\u001b[1m \u001b[0m\u001b[1mLayer (type)                        \u001b[0m\u001b[1m \u001b[0m┃\u001b[1m \u001b[0m\u001b[1mOutput Shape               \u001b[0m\u001b[1m \u001b[0m┃\u001b[1m \u001b[0m\u001b[1m        Param #\u001b[0m\u001b[1m \u001b[0m┃\n",
              "┡━━━━━━━━━━━━━━━━━━━━━━━━━━━━━━━━━━━━━━╇━━━━━━━━━━━━━━━━━━━━━━━━━━━━━╇━━━━━━━━━━━━━━━━━┩\n",
              "│ dense_13 (\u001b[38;5;33mDense\u001b[0m)                     │ (\u001b[38;5;45mNone\u001b[0m, \u001b[38;5;34m64\u001b[0m)                  │             \u001b[38;5;34m128\u001b[0m │\n",
              "├──────────────────────────────────────┼─────────────────────────────┼─────────────────┤\n",
              "│ dense_14 (\u001b[38;5;33mDense\u001b[0m)                     │ (\u001b[38;5;45mNone\u001b[0m, \u001b[38;5;34m10\u001b[0m)                  │             \u001b[38;5;34m650\u001b[0m │\n",
              "├──────────────────────────────────────┼─────────────────────────────┼─────────────────┤\n",
              "│ dense_15 (\u001b[38;5;33mDense\u001b[0m)                     │ (\u001b[38;5;45mNone\u001b[0m, \u001b[38;5;34m1\u001b[0m)                   │              \u001b[38;5;34m11\u001b[0m │\n",
              "└──────────────────────────────────────┴─────────────────────────────┴─────────────────┘\n"
            ],
            "text/html": [
              "<pre style=\"white-space:pre;overflow-x:auto;line-height:normal;font-family:Menlo,'DejaVu Sans Mono',consolas,'Courier New',monospace\">┏━━━━━━━━━━━━━━━━━━━━━━━━━━━━━━━━━━━━━━┳━━━━━━━━━━━━━━━━━━━━━━━━━━━━━┳━━━━━━━━━━━━━━━━━┓\n",
              "┃<span style=\"font-weight: bold\"> Layer (type)                         </span>┃<span style=\"font-weight: bold\"> Output Shape                </span>┃<span style=\"font-weight: bold\">         Param # </span>┃\n",
              "┡━━━━━━━━━━━━━━━━━━━━━━━━━━━━━━━━━━━━━━╇━━━━━━━━━━━━━━━━━━━━━━━━━━━━━╇━━━━━━━━━━━━━━━━━┩\n",
              "│ dense_13 (<span style=\"color: #0087ff; text-decoration-color: #0087ff\">Dense</span>)                     │ (<span style=\"color: #00d7ff; text-decoration-color: #00d7ff\">None</span>, <span style=\"color: #00af00; text-decoration-color: #00af00\">64</span>)                  │             <span style=\"color: #00af00; text-decoration-color: #00af00\">128</span> │\n",
              "├──────────────────────────────────────┼─────────────────────────────┼─────────────────┤\n",
              "│ dense_14 (<span style=\"color: #0087ff; text-decoration-color: #0087ff\">Dense</span>)                     │ (<span style=\"color: #00d7ff; text-decoration-color: #00d7ff\">None</span>, <span style=\"color: #00af00; text-decoration-color: #00af00\">10</span>)                  │             <span style=\"color: #00af00; text-decoration-color: #00af00\">650</span> │\n",
              "├──────────────────────────────────────┼─────────────────────────────┼─────────────────┤\n",
              "│ dense_15 (<span style=\"color: #0087ff; text-decoration-color: #0087ff\">Dense</span>)                     │ (<span style=\"color: #00d7ff; text-decoration-color: #00d7ff\">None</span>, <span style=\"color: #00af00; text-decoration-color: #00af00\">1</span>)                   │              <span style=\"color: #00af00; text-decoration-color: #00af00\">11</span> │\n",
              "└──────────────────────────────────────┴─────────────────────────────┴─────────────────┘\n",
              "</pre>\n"
            ]
          },
          "metadata": {}
        },
        {
          "output_type": "display_data",
          "data": {
            "text/plain": [
              "\u001b[1m Total params: \u001b[0m\u001b[38;5;34m2,369\u001b[0m (9.26 KB)\n"
            ],
            "text/html": [
              "<pre style=\"white-space:pre;overflow-x:auto;line-height:normal;font-family:Menlo,'DejaVu Sans Mono',consolas,'Courier New',monospace\"><span style=\"font-weight: bold\"> Total params: </span><span style=\"color: #00af00; text-decoration-color: #00af00\">2,369</span> (9.26 KB)\n",
              "</pre>\n"
            ]
          },
          "metadata": {}
        },
        {
          "output_type": "display_data",
          "data": {
            "text/plain": [
              "\u001b[1m Trainable params: \u001b[0m\u001b[38;5;34m789\u001b[0m (3.08 KB)\n"
            ],
            "text/html": [
              "<pre style=\"white-space:pre;overflow-x:auto;line-height:normal;font-family:Menlo,'DejaVu Sans Mono',consolas,'Courier New',monospace\"><span style=\"font-weight: bold\"> Trainable params: </span><span style=\"color: #00af00; text-decoration-color: #00af00\">789</span> (3.08 KB)\n",
              "</pre>\n"
            ]
          },
          "metadata": {}
        },
        {
          "output_type": "display_data",
          "data": {
            "text/plain": [
              "\u001b[1m Non-trainable params: \u001b[0m\u001b[38;5;34m0\u001b[0m (0.00 B)\n"
            ],
            "text/html": [
              "<pre style=\"white-space:pre;overflow-x:auto;line-height:normal;font-family:Menlo,'DejaVu Sans Mono',consolas,'Courier New',monospace\"><span style=\"font-weight: bold\"> Non-trainable params: </span><span style=\"color: #00af00; text-decoration-color: #00af00\">0</span> (0.00 B)\n",
              "</pre>\n"
            ]
          },
          "metadata": {}
        },
        {
          "output_type": "display_data",
          "data": {
            "text/plain": [
              "\u001b[1m Optimizer params: \u001b[0m\u001b[38;5;34m1,580\u001b[0m (6.18 KB)\n"
            ],
            "text/html": [
              "<pre style=\"white-space:pre;overflow-x:auto;line-height:normal;font-family:Menlo,'DejaVu Sans Mono',consolas,'Courier New',monospace\"><span style=\"font-weight: bold\"> Optimizer params: </span><span style=\"color: #00af00; text-decoration-color: #00af00\">1,580</span> (6.18 KB)\n",
              "</pre>\n"
            ]
          },
          "metadata": {}
        }
      ]
    },
    {
      "cell_type": "code",
      "source": [
        "y_pred = model.predict(X_test)\n",
        "y_pred[:5]"
      ],
      "metadata": {
        "colab": {
          "base_uri": "https://localhost:8080/"
        },
        "id": "Dze7iXyouL-k",
        "outputId": "2b228274-c8c5-4a58-d130-b36d5b8815b1"
      },
      "execution_count": 33,
      "outputs": [
        {
          "output_type": "stream",
          "name": "stdout",
          "text": [
            "\u001b[1m2/2\u001b[0m \u001b[32m━━━━━━━━━━━━━━━━━━━━\u001b[0m\u001b[37m\u001b[0m \u001b[1m0s\u001b[0m 150ms/step\n"
          ]
        },
        {
          "output_type": "execute_result",
          "data": {
            "text/plain": [
              "array([[87.89375  ],\n",
              "       [74.17317  ],\n",
              "       [91.81391  ],\n",
              "       [ 4.5902467],\n",
              "       [88.873795 ]], dtype=float32)"
            ]
          },
          "metadata": {},
          "execution_count": 33
        }
      ]
    },
    {
      "cell_type": "code",
      "source": [
        "y_test.head(5)"
      ],
      "metadata": {
        "colab": {
          "base_uri": "https://localhost:8080/",
          "height": 241
        },
        "id": "teKNPD-DuqC0",
        "outputId": "17dbe2df-9a2c-4582-d0fd-2cb6ea7b3187"
      },
      "execution_count": 34,
      "outputs": [
        {
          "output_type": "execute_result",
          "data": {
            "text/plain": [
              "203    92.887723\n",
              "266    79.503415\n",
              "152    97.001484\n",
              "9       8.746748\n",
              "233    89.739520\n",
              "Name: y, dtype: float64"
            ],
            "text/html": [
              "<div>\n",
              "<style scoped>\n",
              "    .dataframe tbody tr th:only-of-type {\n",
              "        vertical-align: middle;\n",
              "    }\n",
              "\n",
              "    .dataframe tbody tr th {\n",
              "        vertical-align: top;\n",
              "    }\n",
              "\n",
              "    .dataframe thead th {\n",
              "        text-align: right;\n",
              "    }\n",
              "</style>\n",
              "<table border=\"1\" class=\"dataframe\">\n",
              "  <thead>\n",
              "    <tr style=\"text-align: right;\">\n",
              "      <th></th>\n",
              "      <th>y</th>\n",
              "    </tr>\n",
              "  </thead>\n",
              "  <tbody>\n",
              "    <tr>\n",
              "      <th>203</th>\n",
              "      <td>92.887723</td>\n",
              "    </tr>\n",
              "    <tr>\n",
              "      <th>266</th>\n",
              "      <td>79.503415</td>\n",
              "    </tr>\n",
              "    <tr>\n",
              "      <th>152</th>\n",
              "      <td>97.001484</td>\n",
              "    </tr>\n",
              "    <tr>\n",
              "      <th>9</th>\n",
              "      <td>8.746748</td>\n",
              "    </tr>\n",
              "    <tr>\n",
              "      <th>233</th>\n",
              "      <td>89.739520</td>\n",
              "    </tr>\n",
              "  </tbody>\n",
              "</table>\n",
              "</div><br><label><b>dtype:</b> float64</label>"
            ]
          },
          "metadata": {},
          "execution_count": 34
        }
      ]
    },
    {
      "cell_type": "code",
      "source": [
        "plt.scatter(X_train, y_train, c='b', label = 'Training Data')\n",
        "plt.scatter(X_test, y_test, c='y', label = 'Testing Data')\n",
        "plt.scatter(X_test, y_pred, c='r', label = 'Predicted Data')\n",
        "plt.legend()\n",
        "plt.show()"
      ],
      "metadata": {
        "colab": {
          "base_uri": "https://localhost:8080/",
          "height": 430
        },
        "id": "__ZSJx9Gu-c8",
        "outputId": "1b9f701f-f5f7-49e5-b796-0623e4c5fcd9"
      },
      "execution_count": 35,
      "outputs": [
        {
          "output_type": "display_data",
          "data": {
            "text/plain": [
              "<Figure size 640x480 with 1 Axes>"
            ],
            "image/png": "[encoded data removed]"
          },
          "metadata": {}
        }
      ]
    },
    {
      "cell_type": "code",
      "source": [
        "model.evaluate(X_test, y_test)"
      ],
      "metadata": {
        "colab": {
          "base_uri": "https://localhost:8080/"
        },
        "id": "knyqcVZTviK6",
        "outputId": "ee427fcc-dcc2-44c8-98be-3cdc14fbf82e"
      },
      "execution_count": 36,
      "outputs": [
        {
          "output_type": "stream",
          "name": "stdout",
          "text": [
            "\u001b[1m2/2\u001b[0m \u001b[32m━━━━━━━━━━━━━━━━━━━━\u001b[0m\u001b[37m\u001b[0m \u001b[1m0s\u001b[0m 126ms/step - loss: 2.9177 - mae: 2.9177\n"
          ]
        },
        {
          "output_type": "execute_result",
          "data": {
            "text/plain": [
              "[2.745711326599121, 2.745711326599121]"
            ]
          },
          "metadata": {},
          "execution_count": 36
        }
      ]
    },
    {
      "cell_type": "code",
      "source": [
        "# Using MAE (Mean Absolute Error)\n",
        "mae = tf.metrics.mae(y_test, tf.squeeze(y_pred))\n",
        "mae"
      ],
      "metadata": {
        "colab": {
          "base_uri": "https://localhost:8080/"
        },
        "id": "zXWupYfTv4A-",
        "outputId": "ba5edeb5-d844-4143-b103-1239fe770442"
      },
      "execution_count": 37,
      "outputs": [
        {
          "output_type": "execute_result",
          "data": {
            "text/plain": [
              "<tf.Tensor: shape=(), dtype=float32, numpy=2.745711>"
            ]
          },
          "metadata": {},
          "execution_count": 37
        }
      ]
    },
    {
      "cell_type": "code",
      "source": [
        "mae = tf.metrics.mse(y_test, tf.squeeze(y_pred))\n",
        "mae"
      ],
      "metadata": {
        "colab": {
          "base_uri": "https://localhost:8080/"
        },
        "id": "7YZJR6fTwIno",
        "outputId": "6153ab6f-8ffd-4446-918f-4aa92ee215b7"
      },
      "execution_count": 41,
      "outputs": [
        {
          "output_type": "execute_result",
          "data": {
            "text/plain": [
              "<tf.Tensor: shape=(), dtype=float32, numpy=12.262167>"
            ]
          },
          "metadata": {},
          "execution_count": 41
        }
      ]
    },
    {
      "cell_type": "code",
      "source": [
        "x_range = range(1, epoch_number+1)\n",
        "loss = history.history['loss']\n",
        "plt.plot(x_range, loss)\n",
        "plt.xlabel('Epochs')\n",
        "plt.ylabel('Loss')\n",
        "plt.show()"
      ],
      "metadata": {
        "colab": {
          "base_uri": "https://localhost:8080/",
          "height": 449
        },
        "id": "LZpFE8QN1uvh",
        "outputId": "a208dd6b-3905-4d76-ef82-c0d4acf353d0"
      },
      "execution_count": 43,
      "outputs": [
        {
          "output_type": "display_data",
          "data": {
            "text/plain": [
              "<Figure size 640x480 with 1 Axes>"
            ],
            "image/png": "[encoded data removed]"
          },
          "metadata": {}
        }
      ]
    },
    {
      "cell_type": "code",
      "source": [
        "for layer in model.layers:\n",
        "  weights = layer.get_weights()[0]\n",
        "  bias = layer.get_weights()[1]\n",
        "  print(f\"\\nWeights:\\n {weights} \\nBiases:\\n {bias}\")"
      ],
      "metadata": {
        "colab": {
          "base_uri": "https://localhost:8080/"
        },
        "id": "Q1OmKDNh2OwE",
        "outputId": "c3259978-b89a-46b8-81e1-c9651f44066a"
      },
      "execution_count": 46,
      "outputs": [
        {
          "output_type": "stream",
          "name": "stdout",
          "text": [
            "\n",
            "Weights:\n",
            " [[-0.04070428 -0.01958547 -0.20823546  0.0647565  -0.23682338  0.31763226\n",
            "  -0.00613903 -0.19164579 -0.01545111 -0.00984028 -0.06928621 -0.18496734\n",
            "   0.02622642  0.00478925  0.01803185  0.22456582 -0.03490735  0.00045988\n",
            "  -0.00362502 -0.06320703  0.05849923  0.15207843  0.2547427   0.0223375\n",
            "  -0.01859897  0.08380877  0.01847896  0.00591802 -0.1657013   0.00569046\n",
            "  -0.01096841  0.13435352  0.05109288  0.0604175   0.09474915 -0.00467528\n",
            "  -0.1587618   0.00947979  0.01306768 -0.00534616 -0.07588021 -0.22576319\n",
            "  -0.10930693 -0.06028009 -0.03571172 -0.22818543 -0.01071899  0.2094118\n",
            "  -0.380249    0.13586475  0.04867591  0.21238445  0.00107205  0.01156189\n",
            "  -0.09232961  0.044051   -0.09055545  0.0334191  -0.03806141  0.01104547\n",
            "   0.00798658 -0.01299648 -0.00825176  0.02479656]] \n",
            "Biases:\n",
            " [ 0.13373719  0.14925766  0.15985416  0.09773358  0.21611302 -0.12220666\n",
            "  0.4037161   0.18257594  0.05566498  0.12413239  0.3807398   0.02572978\n",
            "  0.21849258 -0.06390649 -0.2962323   0.06116532 -0.19969605 -0.15800102\n",
            " -0.13822187  0.35869944  0.03538327 -0.23891792  0.19413076  0.33080518\n",
            " -0.02763097 -0.27444273 -0.12265835 -0.08962305 -0.0274815   0.0188047\n",
            "  0.3181182   0.15699647 -0.12249728  0.06272659  0.02624664  0.34157923\n",
            "  0.0326734  -0.01548593 -0.05706219 -0.06136604  0.09122308  0.1386663\n",
            "  0.1773575  -0.19039476  0.2846741   0.12511292  0.09526554 -0.08904839\n",
            "  0.07182377 -0.01828423 -0.07768597  0.19952698 -0.06309018 -0.2737383\n",
            " -0.05493728 -0.285408   -0.41284618  0.10825571  0.06560595 -0.10468266\n",
            "  0.04144881  0.14527515  0.10837367  0.005794  ]\n",
            "\n",
            "Weights:\n",
            " [[-1.04328915e-02  3.39586139e-01 -1.04876980e-01  2.81327754e-01\n",
            "   1.50756478e-01 -2.67921895e-01 -5.60074262e-02  9.39657837e-02\n",
            "  -1.65209055e-01 -4.21009995e-02]\n",
            " [ 6.86092749e-02 -2.30470374e-01  2.54352093e-01 -2.59578470e-02\n",
            "   1.43568859e-01  5.42335391e-01  4.36718076e-01  2.51509070e-01\n",
            "  -2.47197356e-02  2.91477144e-01]\n",
            " [-7.61537328e-02  8.94827992e-02  1.53877780e-01 -4.52177301e-02\n",
            "  -3.61731410e-01  1.15403637e-01 -2.13143349e-01  3.61260384e-01\n",
            "   3.62457521e-02 -5.16560376e-02]\n",
            " [ 2.82656699e-01 -3.92793924e-01  9.87304673e-02 -3.11404645e-01\n",
            "   1.17387306e-02 -8.03547129e-02 -9.64643136e-02 -4.96444926e-02\n",
            "  -5.38621396e-02 -7.81073868e-01]\n",
            " [-1.64076537e-01 -3.04394901e-01  5.45959063e-02 -1.96595252e-01\n",
            "   1.94458757e-02 -2.58526802e-01 -1.56317726e-02  3.76966625e-01\n",
            "  -2.04274014e-01 -1.05215110e-01]\n",
            " [-1.58651203e-01  2.10967168e-01 -2.26472188e-02 -2.84358263e-02\n",
            "   2.10670039e-01  2.54626155e-01 -1.76920742e-01 -2.18705460e-01\n",
            "   2.83427596e-01 -1.47426650e-01]\n",
            " [ 6.64360300e-02 -5.42126335e-02 -1.10557461e-02  6.83606416e-03\n",
            "   2.32272353e-02 -8.01989585e-02  4.07111228e-01  5.20282798e-02\n",
            "  -1.80199385e-01  1.36586145e-01]\n",
            " [ 1.12420343e-01  1.83062255e-01 -1.63963407e-01  1.60082743e-01\n",
            "  -2.77236402e-01  4.30713445e-02 -1.80261478e-01  1.22476928e-01\n",
            "  -3.10881853e-01 -3.38508710e-02]\n",
            " [-2.15471789e-01  3.66777293e-02  5.14527000e-02 -3.29964198e-02\n",
            "  -1.24219507e-01 -2.42507607e-01 -1.41405791e-01  1.19664252e-01\n",
            "   2.82880515e-01 -2.71583825e-01]\n",
            " [ 1.26532301e-01 -8.94037262e-02  1.77151531e-01 -3.78725648e-01\n",
            "  -2.29861677e-01  4.51822311e-01  3.14929277e-01 -6.23922646e-02\n",
            "   5.82621247e-02  1.83178067e-01]\n",
            " [-1.97535113e-01  4.48630825e-02  1.46952778e-01 -2.18815934e-02\n",
            "  -2.11895928e-01 -1.66436229e-02 -1.82908893e-01  1.50765315e-01\n",
            "   2.45997056e-01 -6.15738668e-02]\n",
            " [ 2.68239647e-01  1.89347908e-01  9.07009095e-02 -1.72079951e-01\n",
            "  -3.05418730e-01 -2.62854338e-01 -1.67299971e-01  1.84980541e-01\n",
            "  -2.75665075e-01 -2.20152974e-01]\n",
            " [-1.72488317e-01 -2.10780218e-01  2.79828727e-01 -1.86408058e-01\n",
            "   5.48008606e-02 -1.13707073e-01 -1.15950383e-01  2.20224960e-03\n",
            "  -2.12626122e-02 -5.33458255e-02]\n",
            " [-3.86189133e-01  2.58322269e-01 -1.66108608e-02 -4.07907069e-02\n",
            "   4.25654277e-02 -7.88605586e-02 -1.85010955e-01 -1.93430297e-02\n",
            "   1.29194316e-02 -3.77010554e-01]\n",
            " [-2.51071274e-01 -1.05308920e-01 -9.99186411e-02 -2.20603645e-01\n",
            "   2.53725976e-01 -2.42833078e-01  1.72522560e-01  1.22994436e-02\n",
            "  -2.50826865e-01  1.57630786e-01]\n",
            " [-3.98124307e-01  1.36882156e-01 -4.02366728e-01  4.88732517e-01\n",
            "   4.05304395e-02 -2.89212644e-01 -5.34589946e-01 -4.67816532e-01\n",
            "   6.75748065e-02 -2.21015915e-01]\n",
            " [-2.37030163e-01  1.52882934e-01 -2.66879678e-01  8.56075510e-02\n",
            "   1.90083206e-01 -4.41132188e-02 -1.78587422e-01  1.38695538e-01\n",
            "  -7.23599270e-02 -1.02125168e-01]\n",
            " [-1.85435697e-01 -1.52985185e-01 -2.67690390e-01 -1.82384968e-01\n",
            "  -7.80237094e-02  1.07108898e-01 -2.49989524e-01  9.25697833e-02\n",
            "   2.61978477e-01 -2.03301627e-02]\n",
            " [ 5.48064858e-02  1.26125053e-01  1.07955664e-01  1.33558393e-01\n",
            "  -1.41158244e-02 -3.16781178e-02 -3.09817702e-01 -1.47581194e-02\n",
            "   1.35019021e-02  1.34489508e-02]\n",
            " [ 1.79892063e-01  1.78118885e-01  1.09458724e-02 -6.36396557e-02\n",
            "  -1.07169285e-01 -1.41716865e-03  2.07189903e-01  3.25986147e-02\n",
            "  -6.25474006e-02 -1.56453829e-02]\n",
            " [ 5.11826165e-02 -2.83503145e-01  5.41339099e-01 -3.24477613e-01\n",
            "  -1.35976851e-01 -9.40080732e-02  2.82935053e-01 -6.82859961e-03\n",
            "   1.59933254e-01 -2.82095253e-01]\n",
            " [ 1.14522345e-01  2.13942155e-01 -1.16290316e-01  2.25104734e-01\n",
            "   2.47164756e-01  2.10816264e-01 -2.14126170e-01 -7.19724298e-02\n",
            "   9.34297740e-02 -4.65449579e-02]\n",
            " [-1.95516065e-01 -1.08416408e-01 -1.17698751e-01 -3.03618670e-01\n",
            "   2.06293330e-01  1.85798854e-01  2.69844949e-01 -1.72903419e-01\n",
            "   3.20082128e-01  3.56842317e-02]\n",
            " [ 2.37105817e-01  1.14061795e-01 -2.99530998e-02 -1.98867723e-01\n",
            "   5.28921783e-02  8.18525776e-02  5.19175269e-02 -6.57258928e-02\n",
            "  -1.64204836e-01 -1.61748037e-01]\n",
            " [-1.18274391e-01 -2.47025251e-01 -1.62466213e-01  1.26776338e-01\n",
            "   1.42788872e-01  5.87457232e-02  3.58293997e-03  1.37843356e-01\n",
            "  -1.06287710e-02 -7.34239165e-03]\n",
            " [-3.28374535e-01  1.49059147e-01 -2.53567666e-01 -9.77341980e-02\n",
            "  -6.91832602e-02 -3.05794794e-02  2.06608906e-01 -3.57532382e-01\n",
            "  -1.12913765e-01  2.35022962e-01]\n",
            " [ 2.36661285e-01  2.80620512e-02  6.42001480e-02  1.51446909e-01\n",
            "  -1.10303707e-01 -1.53939679e-01  4.72273268e-02 -2.53170550e-01\n",
            "  -2.28179276e-01  7.73213618e-03]\n",
            " [-1.31336935e-02 -1.88178532e-02  4.97466139e-02 -2.48032451e-01\n",
            "  -2.57190108e-01  2.92440932e-02  2.18225464e-01 -1.56860903e-01\n",
            "   7.49294311e-02  1.28027022e-01]\n",
            " [ 3.95863831e-01 -2.63141453e-01  1.18130639e-01  1.22306496e-01\n",
            "  -1.79026142e-01  9.60718542e-02  4.01698470e-01  2.28114128e-01\n",
            "  -1.82544906e-02  2.96811908e-02]\n",
            " [ 1.63259059e-01 -4.51869875e-01  1.13790162e-01 -1.39230937e-01\n",
            "  -1.62919953e-01  2.28190675e-01  3.41251045e-01 -3.47832330e-02\n",
            "   1.16028301e-01  2.42406294e-01]\n",
            " [ 2.25816026e-01  2.12460402e-02 -6.40887767e-02  1.30116850e-01\n",
            "   1.31984949e-01  1.74290955e-01 -7.71542713e-02  1.52590975e-01\n",
            "   3.89305502e-02 -2.64875799e-01]\n",
            " [ 2.89107382e-01 -1.67068746e-03  1.77096844e-01 -3.98525894e-01\n",
            "   5.66804633e-02  7.67548010e-02  1.84778452e-01 -9.95456055e-02\n",
            "  -5.54334279e-03  2.46773642e-02]\n",
            " [-6.18179189e-03  4.18474853e-01 -1.40133664e-01  4.16690499e-01\n",
            "   9.51115936e-02 -3.35396796e-01 -3.91007215e-02 -1.56560287e-01\n",
            "  -4.38601244e-03 -4.60129529e-01]\n",
            " [ 5.06992936e-02 -2.74279922e-01  1.68249398e-01  1.46210417e-01\n",
            "  -5.50162941e-02 -2.70844512e-02 -4.12222147e-02 -1.45399973e-01\n",
            "  -9.42287408e-03 -1.41837269e-01]\n",
            " [-2.28600293e-01 -5.91090210e-02 -2.34811276e-01  7.21047297e-02\n",
            "  -1.70402467e-01  2.62498468e-01 -1.01851866e-01 -3.36363435e-01\n",
            "   1.94108710e-01  2.47378618e-01]\n",
            " [ 2.12002218e-01 -5.59703261e-03  3.23338546e-02  1.20193817e-01\n",
            "   1.14997271e-02  1.67956486e-01  6.89916387e-02 -8.98851678e-02\n",
            "  -1.54695421e-01  2.61362970e-01]\n",
            " [-1.12699836e-01  1.19483255e-01  1.69535339e-01 -8.36385563e-02\n",
            "  -3.48248094e-01  3.60208571e-01  7.89590701e-02  2.55108029e-02\n",
            "  -2.79868305e-01  7.22100139e-02]\n",
            " [ 2.17734650e-01 -2.64298171e-01  2.32745633e-01 -5.86740077e-02\n",
            "   4.32640575e-02 -8.63993242e-02  1.19539527e-02 -3.79694104e-02\n",
            "  -9.92865860e-02  2.59086698e-01]\n",
            " [-2.68667638e-01 -1.56361192e-01  1.70321018e-02  2.33096406e-01\n",
            "   2.00359255e-01 -3.43456477e-01 -7.91008919e-02  3.68629321e-02\n",
            "  -9.56047475e-02 -1.36664510e-01]\n",
            " [-2.47152969e-01  2.57991433e-01 -1.91368178e-01  1.47197962e-01\n",
            "   2.64556766e-01  1.06280997e-01 -1.04826488e-01  6.27203211e-02\n",
            "  -1.83639318e-01  4.50257957e-01]\n",
            " [ 2.08539188e-01 -2.85832107e-01 -4.21434641e-02 -4.72600497e-02\n",
            "  -2.28258505e-01  1.06895670e-01 -9.47926864e-02 -4.92900982e-02\n",
            "  -1.36876509e-01 -5.35256639e-02]\n",
            " [-1.10637844e-01 -1.25568286e-01  3.82856205e-02  1.92398429e-02\n",
            "  -3.42849016e-01 -7.13006631e-02  2.06490114e-01  1.66618273e-01\n",
            "  -1.88019574e-01 -6.15437254e-02]\n",
            " [ 1.84844777e-01  1.68860167e-01  5.92752993e-02  2.05570385e-01\n",
            "   5.75151481e-02  3.55762728e-02  6.86601698e-02  1.80531234e-01\n",
            "  -3.18694800e-01  7.65917599e-02]\n",
            " [-1.57971576e-01  1.72478437e-01 -1.82435155e-01  4.85552847e-01\n",
            "   6.74416944e-02  9.05575529e-02 -3.71913146e-03  1.45714119e-01\n",
            "   3.64540741e-02 -1.14556998e-01]\n",
            " [ 2.93222010e-01  1.02461450e-01 -1.38108864e-01  2.03493070e-02\n",
            "   2.00634897e-02  1.78379685e-01  1.17897175e-01  2.01543957e-01\n",
            "   1.08949624e-01 -2.92570829e-01]\n",
            " [-1.32711694e-01  1.32273465e-01 -2.98616201e-01  5.02943546e-02\n",
            "  -2.99267977e-01 -2.74676502e-01  1.50777221e-01  2.87810177e-01\n",
            "  -2.20136628e-01 -2.50977814e-01]\n",
            " [-2.02486143e-02  7.44672073e-03  6.98169172e-02 -4.18452203e-01\n",
            "  -4.02787365e-02  3.48809771e-02  2.06173152e-01  5.73248137e-04\n",
            "  -1.14724860e-01 -2.50668436e-01]\n",
            " [-7.06463829e-02  1.45976007e-01  5.87317646e-02  1.30215272e-01\n",
            "   3.12587291e-01  2.01241225e-01  1.76812336e-02 -2.62125492e-01\n",
            "   7.92836919e-02 -2.25233808e-01]\n",
            " [-1.89761430e-01 -7.27636665e-02 -2.19868973e-01 -3.02821368e-01\n",
            "  -3.58867705e-01  2.31238648e-01 -1.76219851e-01  4.00509328e-01\n",
            "  -4.13725376e-01 -1.66410223e-01]\n",
            " [ 3.62372883e-02 -1.41903162e-01 -3.61092269e-01 -5.67904301e-02\n",
            "   8.23194459e-02 -3.96367401e-01 -1.56487212e-01 -1.11864969e-01\n",
            "   2.30743662e-01  3.77375335e-02]\n",
            " [-4.56690229e-03  2.25076228e-02  3.33844535e-02  2.90245324e-01\n",
            "   7.94837996e-02 -2.12603629e-01  1.26199750e-02 -2.06870154e-01\n",
            "  -1.77034229e-01  8.03441647e-03]\n",
            " [ 2.70602286e-01  2.64945421e-02  2.71456987e-01 -2.67396927e-01\n",
            "  -1.56593206e-03 -8.74727964e-02  1.77065387e-01 -2.58028477e-01\n",
            "   1.40175924e-01 -1.54045239e-01]\n",
            " [-1.64056927e-01 -2.35805660e-01 -1.21245787e-01  1.34280026e-02\n",
            "   5.31875119e-02  1.40121698e-01  1.38001114e-01  6.70887083e-02\n",
            "   4.33212966e-02  1.63828935e-02]\n",
            " [-2.20333755e-01  1.29644990e-01 -7.90188387e-02 -2.12316215e-01\n",
            "  -2.35027388e-01 -2.29282618e-01 -2.86757261e-01 -2.29363933e-01\n",
            "   2.86164060e-02  2.18352243e-01]\n",
            " [-2.24370137e-01  2.32772931e-01  1.68982714e-01  3.13274801e-01\n",
            "   7.54512008e-03  3.20689492e-02 -1.85430482e-01  1.07674487e-01\n",
            "  -5.61381616e-02 -5.93701378e-02]\n",
            " [-3.07808816e-02  2.79148757e-01 -2.32889116e-01  1.51736423e-01\n",
            "   8.90885964e-02  3.08957547e-01 -1.33871987e-01  8.98233578e-02\n",
            "   2.29364172e-01  4.85742614e-02]\n",
            " [-2.17021450e-01  3.44741046e-01 -1.45273078e-02 -8.91551524e-02\n",
            "  -2.21166331e-02 -1.34311333e-01 -3.58483851e-01  1.45344481e-01\n",
            "   1.77271947e-01 -1.02006696e-01]\n",
            " [ 8.04762319e-02  1.25105903e-01  4.70290259e-02 -4.18606043e-01\n",
            "  -5.69687746e-02 -1.39771551e-01  3.52063000e-01 -7.47700036e-02\n",
            "  -1.49623558e-01 -7.89521158e-01]\n",
            " [-1.68442190e-01 -1.51653141e-01  6.76019583e-03 -1.91742435e-01\n",
            "   5.21618947e-02  1.40162051e-01  1.86536998e-01  8.42872858e-02\n",
            "  -1.97548166e-01 -1.90154463e-01]\n",
            " [ 3.83662105e-01  3.07063982e-02  6.82970956e-02 -3.02185327e-01\n",
            "  -1.73885733e-01 -8.91756117e-02  1.91111773e-01 -4.69422266e-02\n",
            "   1.02328904e-01  3.88187587e-01]\n",
            " [ 4.06223416e-01  1.03856504e-01  1.93929300e-01 -3.27979505e-01\n",
            "   1.19657740e-01 -4.69131507e-02  4.03019428e-01  5.78607549e-04\n",
            "  -2.20896363e-01  4.24404442e-01]\n",
            " [-1.33939497e-02  1.77703962e-01 -1.44265313e-02 -7.99791664e-02\n",
            "   1.51556149e-01  2.44067430e-01  1.10288285e-01  8.48458782e-02\n",
            "  -9.40535590e-02 -5.52328378e-02]\n",
            " [ 2.08400503e-01  1.43184975e-01  2.97679882e-02  3.09609137e-02\n",
            "  -1.20182417e-01  2.12137252e-01 -1.02498047e-01 -1.29081964e-01\n",
            "  -9.22605544e-02  3.56457740e-01]\n",
            " [ 3.14221919e-01 -3.21274102e-01  4.91442829e-01 -8.78950134e-02\n",
            "   8.89039785e-02 -3.79251897e-01  3.07395399e-01 -1.12463824e-01\n",
            "  -2.87095666e-01 -1.44764021e-01]] \n",
            "Biases:\n",
            " [-0.19038069  0.1733998  -0.19195192  0.17788963  0.13723761 -0.01015548\n",
            " -0.23039377 -0.13205147  0.13865335  0.06322068]\n",
            "\n",
            "Weights:\n",
            " [[ 0.02604318]\n",
            " [ 0.00134945]\n",
            " [ 0.01063328]\n",
            " [-0.00975111]\n",
            " [ 0.3880691 ]\n",
            " [ 0.00536442]\n",
            " [ 0.01821908]\n",
            " [-0.46484917]\n",
            " [ 0.31625977]\n",
            " [-0.0039306 ]] \n",
            "Biases:\n",
            " [0.17670286]\n"
          ]
        }
      ]
    },
    {
      "cell_type": "code",
      "source": [],
      "metadata": {
        "id": "d2w3q1VM2w4Q"
      },
      "execution_count": null,
      "outputs": []
    }
  ]
}